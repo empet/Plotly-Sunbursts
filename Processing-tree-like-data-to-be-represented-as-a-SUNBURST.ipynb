{
 "cells": [
  {
   "cell_type": "markdown",
   "metadata": {},
   "source": [
    "## <center> Processing tree-like data to be represented as a Plotly Sunburst</center>"
   ]
  },
  {
   "cell_type": "markdown",
   "metadata": {},
   "source": [
    "Sunburst is a chart type to plot hierarchical data with a rooted tree structure.  It can be seen as  a radial treemap or a multi-level pie chart, because it consists in a central disk representing the tree root, and a sequence of nested rings, divided in sectors, that represent the tree nodes. Each ring corresponds to a particular level in the tree."
   ]
  },
  {
   "cell_type": "markdown",
   "metadata": {},
   "source": [
    "The size and color of sectors represent node attributes.  By default Plotly assigns the white color to the root and\n",
    " distinct color to each  \n",
    "subtree starting from the level 1 nodes. From now on we call  such subtrees, *level 1 subtrees*. "
   ]
  },
  {
   "cell_type": "markdown",
   "metadata": {},
   "source": [
    "The basic information needed to plot a sunburst, via Plotly, is the list of node ids, the list of their labels,\n",
    "and the list of corresponding parent ids.  In the list of parent ids the root  parent is represented by `''`."
   ]
  },
  {
   "cell_type": "markdown",
   "metadata": {},
   "source": [
    "For trees with a reduced number of nodes these lists can be derived manually. The aim of this notebook is to show how we can get these lists\n",
    "when the tree data are read from a `json` file, `csv` file or a `gml` file."
   ]
  },
  {
   "cell_type": "markdown",
   "metadata": {},
   "source": [
    "### Sunburst from a tree structure read from a json file"
   ]
  },
  {
   "cell_type": "markdown",
   "metadata": {},
   "source": [
    "We are illustrating how the  Python functions to be defined below act on json data, interpreted as being the following  dict:"
   ]
  },
  {
   "cell_type": "code",
   "execution_count": 2,
   "metadata": {},
   "outputs": [],
   "source": [
    "tree = {'name':0,\n",
    "        'children':[{'name':1,\n",
    "                     'children': [{'name':3, \n",
    "                                   'children':[{'name': 7,\n",
    "                                                'children': [{'name': 17}]},\n",
    "                                               {'name':8}, \n",
    "                                               {'name':9}]},\n",
    "                                  {'name': 4,\n",
    "                                   'children': [{'name':10},\n",
    "                                                {'name':11}]}]\n",
    "                    },\n",
    "                    {'name':2,\n",
    "                     'children': [{'name':5, \n",
    "                                   'children':[{'name': 12}, \n",
    "                                               {'name':13, 'children': [{'name': 18}]}, \n",
    "                                               {'name':14}]},\n",
    "                                  {'name': 6,\n",
    "                                   'children': [{'name':15},\n",
    "                                                {'name':16}]}]\n",
    "                    }\n",
    "                 ]}\n"
   ]
  },
  {
   "cell_type": "markdown",
   "metadata": {},
   "source": [
    "that represents the tree displayed in the second cell:"
   ]
  },
  {
   "cell_type": "code",
   "execution_count": 3,
   "metadata": {},
   "outputs": [
    {
     "data": {
      "image/svg+xml": [
       "<svg class=\"main-svg\" height=\"500\" viewBox=\"0 0 600 500\" width=\"600\" xmlns=\"http://www.w3.org/2000/svg\" xmlns:xlink=\"http://www.w3.org/1999/xlink\"><rect height=\"500\" style=\"fill: rgb(255, 255, 255); fill-opacity: 1;\" width=\"600\" x=\"0\" y=\"0\"/><defs id=\"defs-8aa9c1\"><g class=\"clips\"><clipPath class=\"plotclip\" id=\"clip8aa9c1xyplot\"><rect height=\"320\" width=\"440\"/></clipPath><clipPath class=\"axesclip\" id=\"clip8aa9c1x\"><rect height=\"500\" width=\"440\" x=\"80\" y=\"0\"/></clipPath><clipPath class=\"axesclip\" id=\"clip8aa9c1y\"><rect height=\"320\" width=\"600\" x=\"0\" y=\"100\"/></clipPath><clipPath class=\"axesclip\" id=\"clip8aa9c1xy\"><rect height=\"320\" width=\"440\" x=\"80\" y=\"100\"/></clipPath></g><g class=\"gradients\"/></defs><g class=\"bglayer\"/><g class=\"layer-below\"><g class=\"imagelayer\"/><g class=\"shapelayer\"/></g><g class=\"cartesianlayer\"><g class=\"subplot xy\"><g class=\"layer-subplot\"><g class=\"shapelayer\"/><g class=\"imagelayer\"/></g><g class=\"gridlayer\"><g class=\"x\"/><g class=\"y\"/></g><g class=\"zerolinelayer\"/><path class=\"xlines-below\"/><path class=\"ylines-below\"/><g class=\"overlines-below\"/><g class=\"xaxislayer-below\"/><g class=\"yaxislayer-below\"/><g class=\"overaxes-below\"/><g class=\"plot\" clip-path=\"url(#clip8aa9c1xyplot)\" transform=\"translate(80, 100)\"><g class=\"scatterlayer mlayer\"><g class=\"trace scatter trace5cb2c856-64fc-4bf0-b30d-9a6963314112\" style=\"stroke-miterlimit: 2; opacity: 1;\"><g class=\"fills\"/><g class=\"errorbars\"/><g class=\"lines\"><path class=\"js-line\" d=\"M240.61,28.5L178.78,94.25\" style=\"vector-effect: non-scaling-stroke; fill: none; stroke: rgb(110, 110, 110); stroke-opacity: 1; stroke-width: 1px; opacity: 1;\"/><path class=\"js-line\" d=\"M240.61,28.5L281.83,94.25\" style=\"vector-effect: non-scaling-stroke; fill: none; stroke: rgb(110, 110, 110); stroke-opacity: 1; stroke-width: 1px; opacity: 1;\"/><path class=\"js-line\" d=\"M178.78,94.25L96.33,160\" style=\"vector-effect: non-scaling-stroke; fill: none; stroke: rgb(110, 110, 110); stroke-opacity: 1; stroke-width: 1px; opacity: 1;\"/><path class=\"js-line\" d=\"M178.78,94.25L178.78,160\" style=\"vector-effect: non-scaling-stroke; fill: none; stroke: rgb(110, 110, 110); stroke-opacity: 1; stroke-width: 1px; opacity: 1;\"/><path class=\"js-line\" d=\"M96.33,160L34.5,225.75\" style=\"vector-effect: non-scaling-stroke; fill: none; stroke: rgb(110, 110, 110); stroke-opacity: 1; stroke-width: 1px; opacity: 1;\"/><path class=\"js-line\" d=\"M96.33,160L75.72,225.75\" style=\"vector-effect: non-scaling-stroke; fill: none; stroke: rgb(110, 110, 110); stroke-opacity: 1; stroke-width: 1px; opacity: 1;\"/><path class=\"js-line\" d=\"M96.33,160L116.94,225.75\" style=\"vector-effect: non-scaling-stroke; fill: none; stroke: rgb(110, 110, 110); stroke-opacity: 1; stroke-width: 1px; opacity: 1;\"/><path class=\"js-line\" d=\"M34.5,225.75L34.5,291.5\" style=\"vector-effect: non-scaling-stroke; fill: none; stroke: rgb(110, 110, 110); stroke-opacity: 1; stroke-width: 1px; opacity: 1;\"/><path class=\"js-line\" d=\"M178.78,160L158.17,225.75\" style=\"vector-effect: non-scaling-stroke; fill: none; stroke: rgb(110, 110, 110); stroke-opacity: 1; stroke-width: 1px; opacity: 1;\"/><path class=\"js-line\" d=\"M178.78,160L199.39,225.75\" style=\"vector-effect: non-scaling-stroke; fill: none; stroke: rgb(110, 110, 110); stroke-opacity: 1; stroke-width: 1px; opacity: 1;\"/><path class=\"js-line\" d=\"M281.83,94.25L281.83,160\" style=\"vector-effect: non-scaling-stroke; fill: none; stroke: rgb(110, 110, 110); stroke-opacity: 1; stroke-width: 1px; opacity: 1;\"/><path class=\"js-line\" d=\"M281.83,94.25L364.28,160\" style=\"vector-effect: non-scaling-stroke; fill: none; stroke: rgb(110, 110, 110); stroke-opacity: 1; stroke-width: 1px; opacity: 1;\"/><path class=\"js-line\" d=\"M281.83,160L240.61,225.75\" style=\"vector-effect: non-scaling-stroke; fill: none; stroke: rgb(110, 110, 110); stroke-opacity: 1; stroke-width: 1px; opacity: 1;\"/><path class=\"js-line\" d=\"M281.83,160L281.83,225.75\" style=\"vector-effect: non-scaling-stroke; fill: none; stroke: rgb(110, 110, 110); stroke-opacity: 1; stroke-width: 1px; opacity: 1;\"/><path class=\"js-line\" d=\"M281.83,160L323.06,225.75\" style=\"vector-effect: non-scaling-stroke; fill: none; stroke: rgb(110, 110, 110); stroke-opacity: 1; stroke-width: 1px; opacity: 1;\"/><path class=\"js-line\" d=\"M281.83,225.75L281.83,291.5\" style=\"vector-effect: non-scaling-stroke; fill: none; stroke: rgb(110, 110, 110); stroke-opacity: 1; stroke-width: 1px; opacity: 1;\"/><path class=\"js-line\" d=\"M364.28,160L364.28,225.75\" style=\"vector-effect: non-scaling-stroke; fill: none; stroke: rgb(110, 110, 110); stroke-opacity: 1; stroke-width: 1px; opacity: 1;\"/><path class=\"js-line\" d=\"M364.28,160L405.5,225.75\" style=\"vector-effect: non-scaling-stroke; fill: none; stroke: rgb(110, 110, 110); stroke-opacity: 1; stroke-width: 1px; opacity: 1;\"/></g><g class=\"points\"/><g class=\"text\"/></g><g class=\"trace scatter trace0a24acf3-0322-40cf-a5ba-23304a64e697\" style=\"stroke-miterlimit: 2; opacity: 0.8;\"><g class=\"fills\"/><g class=\"errorbars\"/><g class=\"lines\"/><g class=\"points\"><path class=\"point\" d=\"M10,0A10,10 0 1,1 0,-10A10,10 0 0,1 10,0Z\" style=\"opacity: 1; stroke-width: 0.5px; fill: rgb(25, 211, 243); fill-opacity: 1; stroke: rgb(50, 50, 50); stroke-opacity: 1;\" transform=\"translate(240.61,28.5)\"/><path class=\"point\" d=\"M10,0A10,10 0 1,1 0,-10A10,10 0 0,1 10,0Z\" style=\"opacity: 1; stroke-width: 0.5px; fill: rgb(25, 211, 243); fill-opacity: 1; stroke: rgb(50, 50, 50); stroke-opacity: 1;\" transform=\"translate(178.78,94.25)\"/><path class=\"point\" d=\"M10,0A10,10 0 1,1 0,-10A10,10 0 0,1 10,0Z\" style=\"opacity: 1; stroke-width: 0.5px; fill: rgb(25, 211, 243); fill-opacity: 1; stroke: rgb(50, 50, 50); stroke-opacity: 1;\" transform=\"translate(281.83,94.25)\"/><path class=\"point\" d=\"M10,0A10,10 0 1,1 0,-10A10,10 0 0,1 10,0Z\" style=\"opacity: 1; stroke-width: 0.5px; fill: rgb(25, 211, 243); fill-opacity: 1; stroke: rgb(50, 50, 50); stroke-opacity: 1;\" transform=\"translate(96.33,160)\"/><path class=\"point\" d=\"M10,0A10,10 0 1,1 0,-10A10,10 0 0,1 10,0Z\" style=\"opacity: 1; stroke-width: 0.5px; fill: rgb(25, 211, 243); fill-opacity: 1; stroke: rgb(50, 50, 50); stroke-opacity: 1;\" transform=\"translate(178.78,160)\"/><path class=\"point\" d=\"M10,0A10,10 0 1,1 0,-10A10,10 0 0,1 10,0Z\" style=\"opacity: 1; stroke-width: 0.5px; fill: rgb(25, 211, 243); fill-opacity: 1; stroke: rgb(50, 50, 50); stroke-opacity: 1;\" transform=\"translate(281.83,160)\"/><path class=\"point\" d=\"M10,0A10,10 0 1,1 0,-10A10,10 0 0,1 10,0Z\" style=\"opacity: 1; stroke-width: 0.5px; fill: rgb(25, 211, 243); fill-opacity: 1; stroke: rgb(50, 50, 50); stroke-opacity: 1;\" transform=\"translate(364.28,160)\"/><path class=\"point\" d=\"M10,0A10,10 0 1,1 0,-10A10,10 0 0,1 10,0Z\" style=\"opacity: 1; stroke-width: 0.5px; fill: rgb(25, 211, 243); fill-opacity: 1; stroke: rgb(50, 50, 50); stroke-opacity: 1;\" transform=\"translate(34.5,225.75)\"/><path class=\"point\" d=\"M10,0A10,10 0 1,1 0,-10A10,10 0 0,1 10,0Z\" style=\"opacity: 1; stroke-width: 0.5px; fill: rgb(25, 211, 243); fill-opacity: 1; stroke: rgb(50, 50, 50); stroke-opacity: 1;\" transform=\"translate(75.72,225.75)\"/><path class=\"point\" d=\"M10,0A10,10 0 1,1 0,-10A10,10 0 0,1 10,0Z\" style=\"opacity: 1; stroke-width: 0.5px; fill: rgb(25, 211, 243); fill-opacity: 1; stroke: rgb(50, 50, 50); stroke-opacity: 1;\" transform=\"translate(116.94,225.75)\"/><path class=\"point\" d=\"M10,0A10,10 0 1,1 0,-10A10,10 0 0,1 10,0Z\" style=\"opacity: 1; stroke-width: 0.5px; fill: rgb(25, 211, 243); fill-opacity: 1; stroke: rgb(50, 50, 50); stroke-opacity: 1;\" transform=\"translate(158.17,225.75)\"/><path class=\"point\" d=\"M10,0A10,10 0 1,1 0,-10A10,10 0 0,1 10,0Z\" style=\"opacity: 1; stroke-width: 0.5px; fill: rgb(25, 211, 243); fill-opacity: 1; stroke: rgb(50, 50, 50); stroke-opacity: 1;\" transform=\"translate(199.39,225.75)\"/><path class=\"point\" d=\"M10,0A10,10 0 1,1 0,-10A10,10 0 0,1 10,0Z\" style=\"opacity: 1; stroke-width: 0.5px; fill: rgb(25, 211, 243); fill-opacity: 1; stroke: rgb(50, 50, 50); stroke-opacity: 1;\" transform=\"translate(240.61,225.75)\"/><path class=\"point\" d=\"M10,0A10,10 0 1,1 0,-10A10,10 0 0,1 10,0Z\" style=\"opacity: 1; stroke-width: 0.5px; fill: rgb(25, 211, 243); fill-opacity: 1; stroke: rgb(50, 50, 50); stroke-opacity: 1;\" transform=\"translate(281.83,225.75)\"/><path class=\"point\" d=\"M10,0A10,10 0 1,1 0,-10A10,10 0 0,1 10,0Z\" style=\"opacity: 1; stroke-width: 0.5px; fill: rgb(25, 211, 243); fill-opacity: 1; stroke: rgb(50, 50, 50); stroke-opacity: 1;\" transform=\"translate(323.06,225.75)\"/><path class=\"point\" d=\"M10,0A10,10 0 1,1 0,-10A10,10 0 0,1 10,0Z\" style=\"opacity: 1; stroke-width: 0.5px; fill: rgb(25, 211, 243); fill-opacity: 1; stroke: rgb(50, 50, 50); stroke-opacity: 1;\" transform=\"translate(364.28,225.75)\"/><path class=\"point\" d=\"M10,0A10,10 0 1,1 0,-10A10,10 0 0,1 10,0Z\" style=\"opacity: 1; stroke-width: 0.5px; fill: rgb(25, 211, 243); fill-opacity: 1; stroke: rgb(50, 50, 50); stroke-opacity: 1;\" transform=\"translate(405.5,225.75)\"/><path class=\"point\" d=\"M10,0A10,10 0 1,1 0,-10A10,10 0 0,1 10,0Z\" style=\"opacity: 1; stroke-width: 0.5px; fill: rgb(25, 211, 243); fill-opacity: 1; stroke: rgb(50, 50, 50); stroke-opacity: 1;\" transform=\"translate(34.5,291.5)\"/><path class=\"point\" d=\"M10,0A10,10 0 1,1 0,-10A10,10 0 0,1 10,0Z\" style=\"opacity: 1; stroke-width: 0.5px; fill: rgb(25, 211, 243); fill-opacity: 1; stroke: rgb(50, 50, 50); stroke-opacity: 1;\" transform=\"translate(281.83,291.5)\"/></g><g class=\"text\"><g class=\"textpoint\" transform=\"translate(0,3)\"><text style=\"font-family: 'Open Sans', verdana, arial, sans-serif; font-size: 12px; fill: rgb(0, 0, 0); fill-opacity: 1; white-space: pre;\" text-anchor=\"middle\" x=\"240.61\" y=\"28.5\">0</text></g><g class=\"textpoint\" transform=\"translate(0,3)\"><text style=\"font-family: 'Open Sans', verdana, arial, sans-serif; font-size: 12px; fill: rgb(0, 0, 0); fill-opacity: 1; white-space: pre;\" text-anchor=\"middle\" x=\"178.78\" y=\"94.25\">1</text></g><g class=\"textpoint\" transform=\"translate(0,3)\"><text style=\"font-family: 'Open Sans', verdana, arial, sans-serif; font-size: 12px; fill: rgb(0, 0, 0); fill-opacity: 1; white-space: pre;\" text-anchor=\"middle\" x=\"281.83\" y=\"94.25\">2</text></g><g class=\"textpoint\" transform=\"translate(0,3)\"><text style=\"font-family: 'Open Sans', verdana, arial, sans-serif; font-size: 12px; fill: rgb(0, 0, 0); fill-opacity: 1; white-space: pre;\" text-anchor=\"middle\" x=\"96.33\" y=\"160\">3</text></g><g class=\"textpoint\" transform=\"translate(0,3)\"><text style=\"font-family: 'Open Sans', verdana, arial, sans-serif; font-size: 12px; fill: rgb(0, 0, 0); fill-opacity: 1; white-space: pre;\" text-anchor=\"middle\" x=\"178.78\" y=\"160\">4</text></g><g class=\"textpoint\" transform=\"translate(0,3)\"><text style=\"font-family: 'Open Sans', verdana, arial, sans-serif; font-size: 12px; fill: rgb(0, 0, 0); fill-opacity: 1; white-space: pre;\" text-anchor=\"middle\" x=\"281.83\" y=\"160\">5</text></g><g class=\"textpoint\" transform=\"translate(0,3)\"><text style=\"font-family: 'Open Sans', verdana, arial, sans-serif; font-size: 12px; fill: rgb(0, 0, 0); fill-opacity: 1; white-space: pre;\" text-anchor=\"middle\" x=\"364.28\" y=\"160\">6</text></g><g class=\"textpoint\" transform=\"translate(0,3)\"><text style=\"font-family: 'Open Sans', verdana, arial, sans-serif; font-size: 12px; fill: rgb(0, 0, 0); fill-opacity: 1; white-space: pre;\" text-anchor=\"middle\" x=\"34.5\" y=\"225.75\">7</text></g><g class=\"textpoint\" transform=\"translate(0,3)\"><text style=\"font-family: 'Open Sans', verdana, arial, sans-serif; font-size: 12px; fill: rgb(0, 0, 0); fill-opacity: 1; white-space: pre;\" text-anchor=\"middle\" x=\"75.72\" y=\"225.75\">8</text></g><g class=\"textpoint\" transform=\"translate(0,3)\"><text style=\"font-family: 'Open Sans', verdana, arial, sans-serif; font-size: 12px; fill: rgb(0, 0, 0); fill-opacity: 1; white-space: pre;\" text-anchor=\"middle\" x=\"116.94\" y=\"225.75\">9</text></g><g class=\"textpoint\" transform=\"translate(0,3)\"><text style=\"font-family: 'Open Sans', verdana, arial, sans-serif; font-size: 12px; fill: rgb(0, 0, 0); fill-opacity: 1; white-space: pre;\" text-anchor=\"middle\" x=\"158.17\" y=\"225.75\">10</text></g><g class=\"textpoint\" transform=\"translate(0,3)\"><text style=\"font-family: 'Open Sans', verdana, arial, sans-serif; font-size: 12px; fill: rgb(0, 0, 0); fill-opacity: 1; white-space: pre;\" text-anchor=\"middle\" x=\"199.39\" y=\"225.75\">11</text></g><g class=\"textpoint\" transform=\"translate(0,3)\"><text style=\"font-family: 'Open Sans', verdana, arial, sans-serif; font-size: 12px; fill: rgb(0, 0, 0); fill-opacity: 1; white-space: pre;\" text-anchor=\"middle\" x=\"240.61\" y=\"225.75\">12</text></g><g class=\"textpoint\" transform=\"translate(0,3)\"><text style=\"font-family: 'Open Sans', verdana, arial, sans-serif; font-size: 12px; fill: rgb(0, 0, 0); fill-opacity: 1; white-space: pre;\" text-anchor=\"middle\" x=\"281.83\" y=\"225.75\">13</text></g><g class=\"textpoint\" transform=\"translate(0,3)\"><text style=\"font-family: 'Open Sans', verdana, arial, sans-serif; font-size: 12px; fill: rgb(0, 0, 0); fill-opacity: 1; white-space: pre;\" text-anchor=\"middle\" x=\"323.06\" y=\"225.75\">14</text></g><g class=\"textpoint\" transform=\"translate(0,3)\"><text style=\"font-family: 'Open Sans', verdana, arial, sans-serif; font-size: 12px; fill: rgb(0, 0, 0); fill-opacity: 1; white-space: pre;\" text-anchor=\"middle\" x=\"364.28\" y=\"225.75\">15</text></g><g class=\"textpoint\" transform=\"translate(0,3)\"><text style=\"font-family: 'Open Sans', verdana, arial, sans-serif; font-size: 12px; fill: rgb(0, 0, 0); fill-opacity: 1; white-space: pre;\" text-anchor=\"middle\" x=\"405.5\" y=\"225.75\">16</text></g><g class=\"textpoint\" transform=\"translate(0,3)\"><text style=\"font-family: 'Open Sans', verdana, arial, sans-serif; font-size: 12px; fill: rgb(0, 0, 0); fill-opacity: 1; white-space: pre;\" text-anchor=\"middle\" x=\"34.5\" y=\"291.5\">17</text></g><g class=\"textpoint\" transform=\"translate(0,3)\"><text style=\"font-family: 'Open Sans', verdana, arial, sans-serif; font-size: 12px; fill: rgb(0, 0, 0); fill-opacity: 1; white-space: pre;\" text-anchor=\"middle\" x=\"281.83\" y=\"291.5\">18</text></g></g></g></g></g><g class=\"overplot\"/><path class=\"xlines-above crisp\" d=\"M0,0\" style=\"fill: none;\"/><path class=\"ylines-above crisp\" d=\"M0,0\" style=\"fill: none;\"/><g class=\"overlines-above\"/><g class=\"xaxislayer-above\"/><g class=\"yaxislayer-above\"/><g class=\"overaxes-above\"/></g></g><g class=\"polarlayer\"/><g class=\"ternarylayer\"/><g class=\"geolayer\"/><g class=\"pielayer\"/><g class=\"glimages\"/><defs id=\"topdefs-8aa9c1\"><g class=\"clips\"/></defs><g class=\"layer-above\"><g class=\"imagelayer\"/><g class=\"shapelayer\"/></g><g class=\"infolayer\"><g class=\"g-gtitle\"/></g></svg>"
      ],
      "text/plain": [
       "<IPython.core.display.SVG object>"
      ]
     },
     "execution_count": 3,
     "metadata": {},
     "output_type": "execute_result"
    }
   ],
   "source": [
    "from IPython.display import SVG, display\n",
    "SVG(filename='mytree.svg')"
   ]
  },
  {
   "cell_type": "markdown",
   "metadata": {},
   "source": [
    "Depending on what information we want to highlight with the sunburst representation of tree data, we perform either the\n",
    "preorder tree traversal or the level by level traversal, to get the lists of node labels and of their parents."
   ]
  },
  {
   "cell_type": "markdown",
   "metadata": {},
   "source": [
    "Suppose that the above dict, `tree`, was read from a json file. The following function extracts from such a dict \n",
    "the list of  node labels\n",
    "and the list of corresponding parents,  following the preorder method to traverse a tree:"
   ]
  },
  {
   "cell_type": "code",
   "execution_count": 4,
   "metadata": {},
   "outputs": [],
   "source": [
    "def preorder_label_parent(tree_dict, labels=None, parents=None):\n",
    "    if labels is None:\n",
    "        labels=list()\n",
    "    if parents is None:\n",
    "        parents=[''] \n",
    "    labels.append(tree_dict['name'])\n",
    "    last_node=tree_dict['name']\n",
    "    if 'children' in tree_dict:\n",
    "        for child in tree_dict.get('children'):\n",
    "            parents.append(last_node)\n",
    "            preorder_label_parent(child, labels, parents)\n",
    "        \n",
    "    return labels, parents"
   ]
  },
  {
   "cell_type": "code",
   "execution_count": 5,
   "metadata": {},
   "outputs": [
    {
     "data": {
      "text/plain": [
       "[(0, ''),\n",
       " (1, 0),\n",
       " (3, 1),\n",
       " (7, 3),\n",
       " (17, 7),\n",
       " (8, 3),\n",
       " (9, 3),\n",
       " (4, 1),\n",
       " (10, 4),\n",
       " (11, 4),\n",
       " (2, 0),\n",
       " (5, 2),\n",
       " (12, 5),\n",
       " (13, 5),\n",
       " (18, 13),\n",
       " (14, 5),\n",
       " (6, 2),\n",
       " (15, 6),\n",
       " (16, 6)]"
      ]
     },
     "execution_count": 5,
     "metadata": {},
     "output_type": "execute_result"
    }
   ],
   "source": [
    "pre_labels, pre_parents = preorder_label_parent(tree)\n",
    "list(zip(pre_labels, pre_parents))"
   ]
  },
  {
   "cell_type": "markdown",
   "metadata": {},
   "source": [
    "To set the marker color in the definition of a `go.Sunburst` instance, the above lists must be set up following the level order tree traversal, to enable plotly.js to map the colors in the list  `fig.data[0].marker.colors`  to the root node, respectively to the  nodes (sectors) of the level 1 subtrees.  The function  `level_parent_label()`\n",
    "extracts the corresponding lists in this order:"
   ]
  },
  {
   "cell_type": "code",
   "execution_count": 6,
   "metadata": {},
   "outputs": [],
   "source": [
    "from collections import deque  # https://docs.python.org/3/library/collections.html#collections.deque\n",
    "   \n",
    "def level_parent_label(json_data,  labels=None, parents=None):\n",
    "    \n",
    "    if labels is None:\n",
    "        labels = list()\n",
    "    if parents is None:\n",
    "        parents = ['']\n",
    "    to_traverse = deque([json_data])\n",
    "    \n",
    "    while len(to_traverse) > 0:\n",
    "        subtree = to_traverse.popleft()\n",
    "        #print('\\n', subtree)  # uncomment this line to see the contents of the dict subtree\n",
    "        if 'name' in subtree:\n",
    "            labels.append(subtree['name']) # subtree['name'] is the name of the subtree root\n",
    "            parent = subtree['name']\n",
    "            if 'children' in subtree:\n",
    "                for child in subtree['children']:\n",
    "                    parents.append(parent)\n",
    "                to_traverse.extend(subtree['children'])\n",
    "    return  labels, parents         "
   ]
  },
  {
   "cell_type": "code",
   "execution_count": 7,
   "metadata": {},
   "outputs": [
    {
     "data": {
      "text/plain": [
       "[(0, ''),\n",
       " (1, 0),\n",
       " (2, 0),\n",
       " (3, 1),\n",
       " (4, 1),\n",
       " (5, 2),\n",
       " (6, 2),\n",
       " (7, 3),\n",
       " (8, 3),\n",
       " (9, 3),\n",
       " (10, 4),\n",
       " (11, 4),\n",
       " (12, 5),\n",
       " (13, 5),\n",
       " (14, 5),\n",
       " (15, 6),\n",
       " (16, 6),\n",
       " (17, 7),\n",
       " (18, 13)]"
      ]
     },
     "execution_count": 7,
     "metadata": {},
     "output_type": "execute_result"
    }
   ],
   "source": [
    "level_labels, level_parents = level_parent_label(tree)\n",
    "list(zip(level_labels, level_parents))"
   ]
  },
  {
   "cell_type": "markdown",
   "metadata": {},
   "source": [
    " Starting with  the lists of node labels and their parents, the next function\n",
    "assigns an id to each node and\n",
    "maps each parent to the corresponding id to get the list of parent ids:"
   ]
  },
  {
   "cell_type": "code",
   "execution_count": 8,
   "metadata": {},
   "outputs": [],
   "source": [
    "def get_ids(labels, parents):\n",
    "    if len(labels) !=  len(parents):\n",
    "        raise ValueError('The list of labels should have the same length like the list of parents')\n",
    "    N = len(labels)\n",
    "    ids =[str(id)   for id in range(N)]\n",
    "    dlabels = {label: idx  for label, idx in zip(labels, ids)} # associate to each label the corresponding id\n",
    "    parentids =[''] + [dlabels[label] for label in parents[1:]] \n",
    "    return ids, parentids"
   ]
  },
  {
   "cell_type": "markdown",
   "metadata": {},
   "source": [
    "**1. The sunburst representation of the tree recorded in the  classical `flare.json` file**"
   ]
  },
  {
   "cell_type": "code",
   "execution_count": 9,
   "metadata": {},
   "outputs": [],
   "source": [
    "import requests, json\n",
    "import plotly.graph_objs as go\n",
    "import plotly.plotly as py"
   ]
  },
  {
   "cell_type": "code",
   "execution_count": 10,
   "metadata": {},
   "outputs": [],
   "source": [
    "url1 ='https://raw.githubusercontent.com/d3/d3-hierarchy/master/test/data/flare.json'\n",
    "content = requests.get(url1)\n",
    "flare_data = json.loads(content.content)\n",
    "labels, parents = preorder_label_parent(flare_data)"
   ]
  },
  {
   "cell_type": "markdown",
   "metadata": {},
   "source": [
    "Now let us associate ids to tree nodes, and derive the parent ids, too:"
   ]
  },
  {
   "cell_type": "code",
   "execution_count": 11,
   "metadata": {},
   "outputs": [],
   "source": [
    "ids, parentids = get_ids(labels, parents)"
   ]
  },
  {
   "cell_type": "code",
   "execution_count": 12,
   "metadata": {},
   "outputs": [
    {
     "data": {
      "text/plain": [
       "(252, 252, 252)"
      ]
     },
     "execution_count": 12,
     "metadata": {},
     "output_type": "execute_result"
    }
   ],
   "source": [
    "len(labels), len(ids), len(parentids)"
   ]
  },
  {
   "cell_type": "code",
   "execution_count": 13,
   "metadata": {},
   "outputs": [],
   "source": [
    "flare_trace = go.Sunburst(ids=ids,\n",
    "                          labels=labels,\n",
    "                          parents=parentids)"
   ]
  },
  {
   "cell_type": "markdown",
   "metadata": {},
   "source": [
    "Note that `ids` and parentids must be  lists of strings,  not  of integers,\n",
    "because with integers the root is not displayed (deduced by experimentation; the docs do not mention this detail)."
   ]
  },
  {
   "cell_type": "code",
   "execution_count": 14,
   "metadata": {},
   "outputs": [],
   "source": [
    "layout = go.Layout(title='Flare sunburst',\n",
    "                   font= dict(size=12),\n",
    "                   showlegend=False,\n",
    "                   autosize=False,\n",
    "                   height=750,\n",
    "                   xaxis=dict(visible=False),\n",
    "                   yaxis=dict(visible=False),          \n",
    "                   hovermode='closest'\n",
    "                  )"
   ]
  },
  {
   "cell_type": "code",
   "execution_count": 15,
   "metadata": {},
   "outputs": [],
   "source": [
    "fig1 = go.FigureWidget(data=[flare_trace], layout=layout)"
   ]
  },
  {
   "cell_type": "code",
   "execution_count": 16,
   "metadata": {},
   "outputs": [
    {
     "data": {
      "text/html": [
       "<iframe id=\"igraph\" scrolling=\"no\" style=\"border:none;\" seamless=\"seamless\" src=\"https://plot.ly/~empet/15195.embed\" height=\"750px\" width=\"100%\"></iframe>"
      ],
      "text/plain": [
       "<chart_studio.tools.PlotlyDisplay object>"
      ]
     },
     "execution_count": 16,
     "metadata": {},
     "output_type": "execute_result"
    }
   ],
   "source": [
    "py.iplot(fig1, filename='flare-sunburst')"
   ]
  },
  {
   "cell_type": "markdown",
   "metadata": {},
   "source": [
    "The default colors associated to level 1 subtrees \n",
    "are selected/derived from the [`DEFAULT_PLOTLY_COLORS`](https://github.com/plotly/plotly.py/blob/master/plotly/colors.py#L84),\n",
    "displayed  below:"
   ]
  },
  {
   "cell_type": "code",
   "execution_count": 17,
   "metadata": {},
   "outputs": [
    {
     "data": {
      "image/svg+xml": [
       "<svg class=\"main-svg\" height=\"200\" viewBox=\"0 0 600 200\" width=\"600\" xmlns=\"http://www.w3.org/2000/svg\" xmlns:xlink=\"http://www.w3.org/1999/xlink\"><rect height=\"200\" style=\"fill: rgb(255, 255, 255); fill-opacity: 1;\" width=\"600\" x=\"0\" y=\"0\"/><defs id=\"defs-dae57b\"><g class=\"clips\"><clipPath class=\"plotclip\" id=\"clipdae57bxyplot\"><rect height=\"20\" width=\"440\"/></clipPath><clipPath class=\"axesclip\" id=\"clipdae57bx\"><rect height=\"200\" width=\"440\" x=\"80\" y=\"0\"/></clipPath><clipPath class=\"axesclip\" id=\"clipdae57by\"><rect height=\"20\" width=\"600\" x=\"0\" y=\"100\"/></clipPath><clipPath class=\"axesclip\" id=\"clipdae57bxy\"><rect height=\"20\" width=\"440\" x=\"80\" y=\"100\"/></clipPath></g><g class=\"gradients\"/></defs><g class=\"bglayer\"/><g class=\"layer-below\"><g class=\"imagelayer\"/><g class=\"shapelayer\"/></g><g class=\"cartesianlayer\"><g class=\"subplot xy\"><g class=\"layer-subplot\"><g class=\"shapelayer\"/><g class=\"imagelayer\"/></g><g class=\"gridlayer\"><g class=\"x\"/><g class=\"y\"/></g><g class=\"zerolinelayer\"/><path class=\"xlines-below\"/><path class=\"ylines-below\"/><g class=\"overlines-below\"/><g class=\"xaxislayer-below\"/><g class=\"yaxislayer-below\"/><g class=\"overaxes-below\"/><g class=\"plot\" clip-path=\"url('#clipdae57bxyplot')\" transform=\"translate(80, 100)\"><g class=\"scatterlayer mlayer\"><g class=\"trace scatter traceba093a43-1fe2-456d-8f3d-50d1f47b6d59\" style=\"stroke-miterlimit: 2; opacity: 1;\"><g class=\"fills\"/><g class=\"errorbars\"/><g class=\"lines\"/><g class=\"points\"><path class=\"point\" d=\"M7.5,0A7.5,7.5 0 1,1 0,-7.5A7.5,7.5 0 0,1 7.5,0Z\" style=\"opacity: 1; stroke-width: 0px; fill: rgb(31, 119, 180); fill-opacity: 1;\" transform=\"translate(31.38,10)\"/><path class=\"point\" d=\"M7.5,0A7.5,7.5 0 1,1 0,-7.5A7.5,7.5 0 0,1 7.5,0Z\" style=\"opacity: 1; stroke-width: 0px; fill: rgb(255, 127, 14); fill-opacity: 1;\" transform=\"translate(69.1,10)\"/><path class=\"point\" d=\"M7.5,0A7.5,7.5 0 1,1 0,-7.5A7.5,7.5 0 0,1 7.5,0Z\" style=\"opacity: 1; stroke-width: 0px; fill: rgb(44, 160, 44); fill-opacity: 1;\" transform=\"translate(106.83,10)\"/><path class=\"point\" d=\"M7.5,0A7.5,7.5 0 1,1 0,-7.5A7.5,7.5 0 0,1 7.5,0Z\" style=\"opacity: 1; stroke-width: 0px; fill: rgb(214, 39, 40); fill-opacity: 1;\" transform=\"translate(144.55,10)\"/><path class=\"point\" d=\"M7.5,0A7.5,7.5 0 1,1 0,-7.5A7.5,7.5 0 0,1 7.5,0Z\" style=\"opacity: 1; stroke-width: 0px; fill: rgb(148, 103, 189); fill-opacity: 1;\" transform=\"translate(182.28,10)\"/><path class=\"point\" d=\"M7.5,0A7.5,7.5 0 1,1 0,-7.5A7.5,7.5 0 0,1 7.5,0Z\" style=\"opacity: 1; stroke-width: 0px; fill: rgb(140, 86, 75); fill-opacity: 1;\" transform=\"translate(220,10)\"/><path class=\"point\" d=\"M7.5,0A7.5,7.5 0 1,1 0,-7.5A7.5,7.5 0 0,1 7.5,0Z\" style=\"opacity: 1; stroke-width: 0px; fill: rgb(227, 119, 194); fill-opacity: 1;\" transform=\"translate(257.73,10)\"/><path class=\"point\" d=\"M7.5,0A7.5,7.5 0 1,1 0,-7.5A7.5,7.5 0 0,1 7.5,0Z\" style=\"opacity: 1; stroke-width: 0px; fill: rgb(127, 127, 127); fill-opacity: 1;\" transform=\"translate(295.45,10)\"/><path class=\"point\" d=\"M7.5,0A7.5,7.5 0 1,1 0,-7.5A7.5,7.5 0 0,1 7.5,0Z\" style=\"opacity: 1; stroke-width: 0px; fill: rgb(188, 189, 34); fill-opacity: 1;\" transform=\"translate(333.18,10)\"/><path class=\"point\" d=\"M7.5,0A7.5,7.5 0 1,1 0,-7.5A7.5,7.5 0 0,1 7.5,0Z\" style=\"opacity: 1; stroke-width: 0px; fill: rgb(23, 190, 207); fill-opacity: 1;\" transform=\"translate(370.9,10)\"/><path class=\"point\" d=\"M7.5,0A7.5,7.5 0 1,1 0,-7.5A7.5,7.5 0 0,1 7.5,0Z\" style=\"opacity: 1; stroke-width: 0px; fill: rgb(0, 0, 0); fill-opacity: 1;\" transform=\"translate(408.63,10)\"/></g><g class=\"text\"/></g></g></g><g class=\"overplot\"/><path class=\"xlines-above crisp\" d=\"M0,0\" style=\"fill: none;\"/><path class=\"ylines-above crisp\" d=\"M0,0\" style=\"fill: none;\"/><g class=\"overlines-above\"/><g class=\"xaxislayer-above\"/><g class=\"yaxislayer-above\"/><g class=\"overaxes-above\"/></g></g><g class=\"polarlayer\"/><g class=\"ternarylayer\"/><g class=\"geolayer\"/><g class=\"pielayer\"/><g class=\"sunburstlayer\"/><g class=\"glimages\"/><defs id=\"topdefs-dae57b\"><g class=\"clips\"/></defs><g class=\"layer-above\"><g class=\"imagelayer\"/><g class=\"shapelayer\"/></g><g class=\"infolayer\"><g class=\"g-gtitle\"/></g></svg>"
      ],
      "text/plain": [
       "<IPython.core.display.SVG object>"
      ]
     },
     "execution_count": 17,
     "metadata": {},
     "output_type": "execute_result"
    }
   ],
   "source": [
    "SVG(filename='pl-default-colors.svg')                        "
   ]
  },
  {
   "cell_type": "markdown",
   "metadata": {},
   "source": [
    "For more information on how the colors for the sunburst sectors  are derived from a list of colors, called `sunburstcolorway`, see [https://plot.ly/python/reference/#sunburst](https://plot.ly/python/reference/#sunburst), and [https://plot.ly/python/reference/#layout-sunburstcolorway](https://plot.ly/python/reference/#layout-sunburstcolorway)."
   ]
  },
  {
   "cell_type": "markdown",
   "metadata": {},
   "source": [
    "Let us inspect how many level 1 subtrees exhibits the flare_data:"
   ]
  },
  {
   "cell_type": "code",
   "execution_count": 18,
   "metadata": {},
   "outputs": [
    {
     "data": {
      "text/plain": [
       "10"
      ]
     },
     "execution_count": 18,
     "metadata": {},
     "output_type": "execute_result"
    }
   ],
   "source": [
    "len(flare_data['children'])"
   ]
  },
  {
   "cell_type": "markdown",
   "metadata": {},
   "source": [
    "Since the lists of labels and parent ids associated to `flare_data`, are derived via  preorder tree traversal, not the level one, an attempt to assign custom colors to the flare's level 1 subtrees, via `marker.colors`, fails:"
   ]
  },
  {
   "cell_type": "code",
   "execution_count": 19,
   "metadata": {},
   "outputs": [],
   "source": [
    "mycolors= ['#ffffff', #root color\n",
    "           '#709fdc', #more 10 colors for level 1 subtrees\n",
    "           '#c9d1de',\n",
    "           '#8a9bab',\n",
    "           '#f8eff1',\n",
    "           '#f1d2d4',\n",
    "           '#c44a9a',\n",
    "           '#da81af',\n",
    "           '#f1d0ee',\n",
    "           '#c192b8',\n",
    "           '#854277']\n",
    "             "
   ]
  },
  {
   "cell_type": "code",
   "execution_count": 20,
   "metadata": {},
   "outputs": [
    {
     "data": {
      "application/vnd.jupyter.widget-view+json": {
       "model_id": "a02afe67c68f45a9ba262f95d6539724",
       "version_major": 2,
       "version_minor": 0
      },
      "text/plain": [
       "FigureWidget({\n",
       "    'data': [{'ids': [0, 1, 2, ..., 249, 250, 251],\n",
       "              'labels': [flare, analytics, …"
      ]
     },
     "metadata": {},
     "output_type": "display_data"
    }
   ],
   "source": [
    "fw1 = go.FigureWidget(fig1)\n",
    "fw1.data[0].marker.colors=mycolors\n",
    "fw1"
   ]
  },
  {
   "cell_type": "markdown",
   "metadata": {},
   "source": [
    "**2.   Sunburst defined by data read from a json file in the  level order, and plotted with custom colors**"
   ]
  },
  {
   "cell_type": "code",
   "execution_count": 21,
   "metadata": {},
   "outputs": [],
   "source": [
    "url2 = 'https://raw.githubusercontent.com/busterbenson/public/master/cognitive-bias-cheat-sheet.json'\n",
    "content = requests.get(url2)\n",
    "bias_data = json.loads(content.content)"
   ]
  },
  {
   "cell_type": "markdown",
   "metadata": {},
   "source": [
    "To be able to set colors for the level 1 subtrees, we extract sunburst data in level order:"
   ]
  },
  {
   "cell_type": "code",
   "execution_count": 22,
   "metadata": {},
   "outputs": [],
   "source": [
    "labels, parents = level_parent_label(bias_data)\n",
    "ids, parentids = get_ids(labels, parents)"
   ]
  },
  {
   "cell_type": "markdown",
   "metadata": {},
   "source": [
    "Extract the number of level 1 nodes (subtrees) from `bias_data`:"
   ]
  },
  {
   "cell_type": "code",
   "execution_count": 23,
   "metadata": {},
   "outputs": [
    {
     "data": {
      "text/plain": [
       "4"
      ]
     },
     "execution_count": 23,
     "metadata": {},
     "output_type": "execute_result"
    }
   ],
   "source": [
    "len(bias_data['children'])"
   ]
  },
  {
   "cell_type": "markdown",
   "metadata": {},
   "source": [
    "Hence to assign to each level 1 subtree a custom color we define 5 hexcolors: the first one for the root and the following four for  the level 1 subtrees:"
   ]
  },
  {
   "cell_type": "code",
   "execution_count": 24,
   "metadata": {},
   "outputs": [],
   "source": [
    "colors = ['#ffffff',# color for root\n",
    "          '#854277',# the next four colors are assigned to the four subtrees starting from the level 1 nodes\n",
    "          '#c44a9a',\n",
    "          '#c9d1de',  \n",
    "          '#709fdc']"
   ]
  },
  {
   "cell_type": "code",
   "execution_count": 25,
   "metadata": {},
   "outputs": [],
   "source": [
    "cog_bias = go.Sunburst(ids=ids,\n",
    "                       labels=labels,\n",
    "                       parents=parentids,\n",
    "                       marker=dict(colors=colors,\n",
    "                                   line=dict(width=1.5\n",
    "                                            )))"
   ]
  },
  {
   "cell_type": "code",
   "execution_count": 26,
   "metadata": {},
   "outputs": [
    {
     "data": {
      "text/plain": [
       "Layout({\n",
       "    'autosize': False,\n",
       "    'font': {'size': 12},\n",
       "    'height': 800,\n",
       "    'hovermode': 'closest',\n",
       "    'showlegend': False,\n",
       "    'title': {'text': 'Sunburst with custom colors'},\n",
       "    'xaxis': {'visible': False},\n",
       "    'yaxis': {'visible': False}\n",
       "})"
      ]
     },
     "execution_count": 26,
     "metadata": {},
     "output_type": "execute_result"
    }
   ],
   "source": [
    "fig2 = go.FigureWidget(data=[cog_bias], layout=layout)\n",
    "fig2.layout.update(title= 'Sunburst with custom colors', \n",
    "                   height=800)"
   ]
  },
  {
   "cell_type": "code",
   "execution_count": 27,
   "metadata": {},
   "outputs": [
    {
     "data": {
      "text/html": [
       "<iframe id=\"igraph\" scrolling=\"no\" style=\"border:none;\" seamless=\"seamless\" src=\"https://plot.ly/~empet/15197.embed\" height=\"800px\" width=\"100%\"></iframe>"
      ],
      "text/plain": [
       "<chart_studio.tools.PlotlyDisplay object>"
      ]
     },
     "execution_count": 27,
     "metadata": {},
     "output_type": "execute_result"
    }
   ],
   "source": [
    "py.iplot(fig2, filename='bias-sunburst')"
   ]
  },
  {
   "cell_type": "markdown",
   "metadata": {},
   "source": [
    "## Sunburst defined from tree data recorded in a csv file "
   ]
  },
  {
   "cell_type": "markdown",
   "metadata": {},
   "source": [
    "When hierarchical data having a rooted tree structure is stored in a csv file, we first have to associate a tree-dict to the \n",
    "dataframe read from that file, and then to derive the lists defining a sunburst, as in the above cases. \n",
    "\n",
    "We note that we are discussing a case when the csv file hasn't as columns the ids, labels and parents, like in the \n",
    "files read here [https://plot.ly/python/sunburst-charts/](https://plot.ly/python/sunburst-charts/)."
   ]
  },
  {
   "cell_type": "markdown",
   "metadata": {},
   "source": [
    "Read the csv file containing a dataframe that stores on its columns information on the someone portfolio.  Sunburst representation of data\n",
    "illustrates the asset categories and classes."
   ]
  },
  {
   "cell_type": "code",
   "execution_count": 28,
   "metadata": {},
   "outputs": [],
   "source": [
    "import pandas as pd"
   ]
  },
  {
   "cell_type": "code",
   "execution_count": 29,
   "metadata": {},
   "outputs": [
    {
     "data": {
      "text/html": [
       "<div>\n",
       "<style scoped>\n",
       "    .dataframe tbody tr th:only-of-type {\n",
       "        vertical-align: middle;\n",
       "    }\n",
       "\n",
       "    .dataframe tbody tr th {\n",
       "        vertical-align: top;\n",
       "    }\n",
       "\n",
       "    .dataframe thead th {\n",
       "        text-align: right;\n",
       "    }\n",
       "</style>\n",
       "<table border=\"1\" class=\"dataframe\">\n",
       "  <thead>\n",
       "    <tr style=\"text-align: right;\">\n",
       "      <th></th>\n",
       "      <th>ISIN</th>\n",
       "      <th>Name</th>\n",
       "      <th>Ccy</th>\n",
       "      <th>Type</th>\n",
       "      <th>Duration</th>\n",
       "      <th>Weight</th>\n",
       "      <th>AssetCategory</th>\n",
       "      <th>AssetClass</th>\n",
       "      <th>SubAssetClass</th>\n",
       "    </tr>\n",
       "  </thead>\n",
       "  <tbody>\n",
       "    <tr>\n",
       "      <th>0</th>\n",
       "      <td>LI0015327682</td>\n",
       "      <td>LGT Money Market Fund (CHF) - B</td>\n",
       "      <td>CHF</td>\n",
       "      <td>Fund</td>\n",
       "      <td>NaN</td>\n",
       "      <td>0.030</td>\n",
       "      <td>Cash</td>\n",
       "      <td>CHF</td>\n",
       "      <td>NaN</td>\n",
       "    </tr>\n",
       "    <tr>\n",
       "      <th>1</th>\n",
       "      <td>LI0214880598</td>\n",
       "      <td>CS (Lie) Money Market Fund EUR EB</td>\n",
       "      <td>EUR</td>\n",
       "      <td>Fund</td>\n",
       "      <td>NaN</td>\n",
       "      <td>0.060</td>\n",
       "      <td>Cash</td>\n",
       "      <td>EUR</td>\n",
       "      <td>NaN</td>\n",
       "    </tr>\n",
       "    <tr>\n",
       "      <th>2</th>\n",
       "      <td>LI0214880689</td>\n",
       "      <td>CS (Lie) Money Market Fund USD EB</td>\n",
       "      <td>USD</td>\n",
       "      <td>Fund</td>\n",
       "      <td>NaN</td>\n",
       "      <td>0.020</td>\n",
       "      <td>Cash</td>\n",
       "      <td>USD</td>\n",
       "      <td>NaN</td>\n",
       "    </tr>\n",
       "    <tr>\n",
       "      <th>3</th>\n",
       "      <td>LU0243957825</td>\n",
       "      <td>Invesco Euro Corporate Bond A EUR Acc</td>\n",
       "      <td>EUR</td>\n",
       "      <td>Fund</td>\n",
       "      <td>5.10</td>\n",
       "      <td>0.120</td>\n",
       "      <td>Fixed Income</td>\n",
       "      <td>EUR</td>\n",
       "      <td>Sovereign and Corporate Bonds</td>\n",
       "    </tr>\n",
       "    <tr>\n",
       "      <th>4</th>\n",
       "      <td>LU0408877412</td>\n",
       "      <td>JPM Euro Gov Sh. Duration Bd A (acc)-EUR</td>\n",
       "      <td>EUR</td>\n",
       "      <td>Fund</td>\n",
       "      <td>2.45</td>\n",
       "      <td>0.065</td>\n",
       "      <td>Fixed Income</td>\n",
       "      <td>EUR</td>\n",
       "      <td>Sovereign and Corporate Bonds</td>\n",
       "    </tr>\n",
       "  </tbody>\n",
       "</table>\n",
       "</div>"
      ],
      "text/plain": [
       "           ISIN                                      Name  Ccy  Type  \\\n",
       "0  LI0015327682           LGT Money Market Fund (CHF) - B  CHF  Fund   \n",
       "1  LI0214880598         CS (Lie) Money Market Fund EUR EB  EUR  Fund   \n",
       "2  LI0214880689         CS (Lie) Money Market Fund USD EB  USD  Fund   \n",
       "3  LU0243957825     Invesco Euro Corporate Bond A EUR Acc  EUR  Fund   \n",
       "4  LU0408877412  JPM Euro Gov Sh. Duration Bd A (acc)-EUR  EUR  Fund   \n",
       "\n",
       "   Duration  Weight AssetCategory AssetClass                  SubAssetClass  \n",
       "0       NaN   0.030          Cash        CHF                            NaN  \n",
       "1       NaN   0.060          Cash        EUR                            NaN  \n",
       "2       NaN   0.020          Cash        USD                            NaN  \n",
       "3      5.10   0.120  Fixed Income        EUR  Sovereign and Corporate Bonds  \n",
       "4      2.45   0.065  Fixed Income        EUR  Sovereign and Corporate Bonds  "
      ]
     },
     "execution_count": 29,
     "metadata": {},
     "output_type": "execute_result"
    }
   ],
   "source": [
    "url3 = 'https://raw.githubusercontent.com/gluc/useR15/master/00_data/portfolio.csv'\n",
    "df = pd.read_csv(url3)\n",
    "df.head()"
   ]
  },
  {
   "cell_type": "markdown",
   "metadata": {},
   "source": [
    "We define a tree dict of the form:"
   ]
  },
  {
   "cell_type": "code",
   "execution_count": 30,
   "metadata": {},
   "outputs": [],
   "source": [
    "portfolio_dict = {'name': 'portfolio',\n",
    "                  'children' : []}"
   ]
  },
  {
   "cell_type": "markdown",
   "metadata": {},
   "source": [
    "where the list of dicts assigned to `children` is derived from the above dataframe. Namely, for the level 1 nodes we define\n",
    "labels consisting in concatenation of the corresponding  'ISIN' string and  'Name' string. Level 2 node labels  are the distinct strings\n",
    "in the `AssetCategory` column,  level 3 node labels are the strings in `AssetClass`, and level 4 node labels are the strings \n",
    "in `SubAssetClass`, if any."
   ]
  },
  {
   "cell_type": "markdown",
   "metadata": {},
   "source": [
    "The hierachical structure is defined by a recursive function:"
   ]
  },
  {
   "cell_type": "code",
   "execution_count": 31,
   "metadata": {},
   "outputs": [],
   "source": [
    "from collections import defaultdict\n",
    "\n",
    "def recursive_tree():\n",
    "    return defaultdict(recursive_tree)  "
   ]
  },
  {
   "cell_type": "code",
   "execution_count": 32,
   "metadata": {},
   "outputs": [],
   "source": [
    "def subtree_setup(name, a_dict):\n",
    "    my_dict={'name': name}\n",
    "    if a_dict.keys():\n",
    "        my_dict[\"children\"] = [subtree_setup(key, val) for key, val in a_dict.items()]\n",
    "\n",
    "    return my_dict\n"
   ]
  },
  {
   "cell_type": "code",
   "execution_count": 33,
   "metadata": {},
   "outputs": [
    {
     "name": "stdout",
     "output_type": "stream",
     "text": [
      "defaultdict(<function recursive_tree at 0x00000169B93FE400>, {})\n"
     ]
    }
   ],
   "source": [
    "T = recursive_tree()\n",
    "print(T)"
   ]
  },
  {
   "cell_type": "markdown",
   "metadata": {},
   "source": [
    "Define the  list of column names that are involved in the tree definition:"
   ]
  },
  {
   "cell_type": "code",
   "execution_count": 34,
   "metadata": {},
   "outputs": [],
   "source": [
    "c = ['ISIN', 'Name', 'AssetCategory', 'AssetClass', 'SubAssetClass']\n",
    "\n",
    "for _, row in df.iterrows():\n",
    "    subdict = T[row[c[0]]+'<br>'+row[c[1]]] \n",
    "    for col in c[2:]: \n",
    "        if not isinstance(row[col], float): #i.e. if row[col] is not nan\n",
    "            subdict = subdict[row[col]]\n",
    "            #print(subdict.keys())\n",
    "\n",
    "\n",
    "dict_list = []\n",
    "for name, a_dict in T.items():\n",
    "    dict_list.append(subtree_setup(name, a_dict))\n",
    "\n",
    "D = {'name': 'Portfolio',\n",
    "     'children': dict_list} \n",
    "#D"
   ]
  },
  {
   "cell_type": "code",
   "execution_count": 35,
   "metadata": {},
   "outputs": [],
   "source": [
    "labels, parents = level_parent_label(D)\n",
    "ids, parentids = get_ids(labels, parents)"
   ]
  },
  {
   "cell_type": "code",
   "execution_count": 36,
   "metadata": {},
   "outputs": [],
   "source": [
    "my_sunburstcolorway = ['#531e7d', '#5e59b0', '#6d91bf', '#a7c0ca',  '#cfb19c', '#bf735d', '#9d3a4f']"
   ]
  },
  {
   "cell_type": "code",
   "execution_count": 37,
   "metadata": {},
   "outputs": [],
   "source": [
    "portfolio_trace = go.Sunburst(ids=ids,\n",
    "                              labels=labels,\n",
    "                              parents=parentids,\n",
    "                              textfont=dict(size=9)\n",
    "                            )\n",
    "                            \n",
    "title = \"Financial Portfolio\"  "
   ]
  },
  {
   "cell_type": "code",
   "execution_count": 38,
   "metadata": {},
   "outputs": [],
   "source": [
    "fig3 = go.FigureWidget(data=[portfolio_trace], layout=layout)"
   ]
  },
  {
   "cell_type": "markdown",
   "metadata": {},
   "source": [
    "Update layout title, fig height and set `sunburstcolorway` on `my_sunburstcolorway` and `extendsunburstcolors=True`, to extend\n",
    "the list of 7 colors in `my_sunburstcolorway` to 21, because our tree has more than 7 level 1 subtrees:"
   ]
  },
  {
   "cell_type": "code",
   "execution_count": 39,
   "metadata": {},
   "outputs": [
    {
     "data": {
      "text/plain": [
       "Layout({\n",
       "    'autosize': False,\n",
       "    'extendsunburstcolors': True,\n",
       "    'font': {'size': 12},\n",
       "    'height': 850,\n",
       "    'hovermode': 'closest',\n",
       "    'showlegend': False,\n",
       "    'sunburstcolorway': [#531e7d, #5e59b0, #6d91bf, #a7c0ca, #cfb19c, #bf735d,\n",
       "                         #9d3a4f],\n",
       "    'title': {'text': 'Financial Portfolio'},\n",
       "    'xaxis': {'visible': False},\n",
       "    'yaxis': {'visible': False}\n",
       "})"
      ]
     },
     "execution_count": 39,
     "metadata": {},
     "output_type": "execute_result"
    }
   ],
   "source": [
    "fig3.layout.update(title =title,\n",
    "                  height=850,\n",
    "                  sunburstcolorway=my_sunburstcolorway,\n",
    "                  extendsunburstcolors=True)"
   ]
  },
  {
   "cell_type": "code",
   "execution_count": 44,
   "metadata": {},
   "outputs": [
    {
     "data": {
      "text/html": [
       "<iframe id=\"igraph\" scrolling=\"no\" style=\"border:none;\" seamless=\"seamless\" src=\"https://plot.ly/~empet/15193.embed\" height=\"850px\" width=\"100%\"></iframe>"
      ],
      "text/plain": [
       "<chart_studio.tools.PlotlyDisplay object>"
      ]
     },
     "execution_count": 44,
     "metadata": {},
     "output_type": "execute_result"
    }
   ],
   "source": [
    "py.iplot(fig3, filename='sunburst-portfolio')"
   ]
  },
  {
   "cell_type": "markdown",
   "metadata": {},
   "source": [
    "## Sunburst  from a gml file"
   ]
  },
  {
   "cell_type": "markdown",
   "metadata": {},
   "source": [
    "In this section we define a sunburst from the rooted tree of Gilbert Strang's descendants, extracted by web scraping of The Mathematics Genealogy\n",
    "Project (MGP): [https://www.genealogy.math.ndsu.nodak.edu/id.php?id=13383](https://www.genealogy.math.ndsu.nodak.edu/id.php?id=13383). "
   ]
  },
  {
   "cell_type": "markdown",
   "metadata": {},
   "source": [
    "Unlike the previous cases, here we have to  define an `igraph.Graph` from the gml file, and from this one we derive the lists of node ids, labels and parent ids, for the sunburst representation of the descendants tree.\n",
    "\n",
    "`networkkx` cannot read this file because it contains labels with unicode characters, and it can read only ASCII strings\n",
    "[https://networkx.github.io/documentation/networkx-2.2/reference/readwrite/gml.html](https://networkx.github.io/documentation/networkx-2.2/reference/readwrite/gml.html)"
   ]
  },
  {
   "cell_type": "code",
   "execution_count": 40,
   "metadata": {},
   "outputs": [],
   "source": [
    "import igraph as ig\n",
    "\n",
    "G = ig.Graph.Read_GML('gstrang_descendants.gml')\n",
    "#https://raw.githubusercontent.com/empet/Datasets/master/gstrang_descendants.gml\n",
    "labels = list(G.vs['label'])\n",
    "MGP_ids = list(G.vs['MGPid'])"
   ]
  },
  {
   "cell_type": "code",
   "execution_count": 41,
   "metadata": {},
   "outputs": [
    {
     "name": "stdout",
     "output_type": "stream",
     "text": [
      "The descendant with the MGPid= 94799 has more than one parent: [15, 46];\n",
      "we record only the first one\n"
     ]
    }
   ],
   "source": [
    "parentids =[]\n",
    "for k in range(len(labels)):\n",
    "    neighbs= G.neighbors(k, mode='in')\n",
    "    if len(neighbs) == 0:\n",
    "        parentids.append('')\n",
    "    elif  len(neighbs) > 1:\n",
    "        print(f'The descendant with the MGPid= {MGP_ids[k]} has more than one parent: {neighbs};'+\\\n",
    "              '\\nwe record only the first one')\n",
    "        parentids.append(MGP_ids[neighbs[0]])\n",
    "    else:    \n",
    "        parentids.append(MGP_ids[neighbs[0]])\n"
   ]
  },
  {
   "cell_type": "code",
   "execution_count": 42,
   "metadata": {},
   "outputs": [
    {
     "data": {
      "text/plain": [
       "Layout({\n",
       "    'autosize': False,\n",
       "    'font': {'family': 'Sherif', 'size': 12},\n",
       "    'height': 750,\n",
       "    'hovermode': 'closest',\n",
       "    'showlegend': False,\n",
       "    'title': {'text': \"Gilbert Strang's descendants<br> extracted from The Mathematics Genealogy Project\"},\n",
       "    'xaxis': {'visible': False},\n",
       "    'yaxis': {'visible': False}\n",
       "})"
      ]
     },
     "execution_count": 42,
     "metadata": {},
     "output_type": "execute_result"
    }
   ],
   "source": [
    "strang_trace = dict(type='sunburst',\n",
    "                    ids=  MGP_ids,\n",
    "                    labels=labels,\n",
    "                    parents=parentids,\n",
    "           )\n",
    "#layout=dict(title =title, width=700, height=675)\n",
    "fig4 =go.FigureWidget(data=[strang_trace], layout=layout)\n",
    "fig4.layout.update(title= \"Gilbert Strang's descendants<br> extracted from The Mathematics Genealogy Project\",\n",
    "                   font=dict(family='Sherif'))"
   ]
  },
  {
   "cell_type": "code",
   "execution_count": 43,
   "metadata": {},
   "outputs": [
    {
     "data": {
      "text/html": [
       "<iframe id=\"igraph\" scrolling=\"no\" style=\"border:none;\" seamless=\"seamless\" src=\"https://plot.ly/~empet/15182.embed\" height=\"750px\" width=\"100%\"></iframe>"
      ],
      "text/plain": [
       "<chart_studio.tools.PlotlyDisplay object>"
      ]
     },
     "execution_count": 43,
     "metadata": {},
     "output_type": "execute_result"
    }
   ],
   "source": [
    "py.iplot(fig4, filename='sunburst-gstrang')"
   ]
  },
  {
   "cell_type": "code",
   "execution_count": null,
   "metadata": {},
   "outputs": [],
   "source": [
    "."
   ]
  }
 ],
 "metadata": {
  "kernelspec": {
   "display_name": "Python 3",
   "language": "python",
   "name": "python3"
  },
  "language_info": {
   "codemirror_mode": {
    "name": "ipython",
    "version": 3
   },
   "file_extension": ".py",
   "mimetype": "text/x-python",
   "name": "python",
   "nbconvert_exporter": "python",
   "pygments_lexer": "ipython3",
   "version": "3.7.1"
  }
 },
 "nbformat": 4,
 "nbformat_minor": 2
}
